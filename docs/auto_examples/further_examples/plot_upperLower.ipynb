{
  "cells": [
    {
      "cell_type": "code",
      "execution_count": null,
      "metadata": {
        "collapsed": false
      },
      "outputs": [],
      "source": [
        "%matplotlib inline"
      ]
    },
    {
      "cell_type": "markdown",
      "metadata": {},
      "source": [
        "\n\n# Example: Use of Upper and Lower bound as error estimation\n\nThis example is an extension to `ex2` where we will prove how the upper and\nlower bound of the loss are an unbiased estimator of the error. The models are\ntrained with different number of cases ranging from 10% to 80% of the data and\nthen are tested with 20% of the samples. The graphs show how in most of the\ncases the error is between those bounds which proves the potential of this\nfeature of the MRCs. The results are for a\n:mod:`MRC(phi = 'fourier', loss = '0-1', s = 1)`\n\n\n<div class=\"alert alert-info\"><h4>Note</h4><p>Note that there is an additional dataset related to COVID-19\n             patients that is available upon requesting to HM Hospitales\n             `here\n             <www.hmhospitales.com/coronavirus/covid-data-save-lives/>`_.\n             More information about this dataset can be found in the\n             `COVID example<ex_covid>`</p></div>\n"
      ]
    },
    {
      "cell_type": "code",
      "execution_count": null,
      "metadata": {
        "collapsed": false
      },
      "outputs": [],
      "source": [
        "# Import needed modules\nimport time\n\nfrom MRCpy import MRC\nfrom MRCpy.datasets import *\n\nfrom imblearn.over_sampling import SMOTE\n\nimport matplotlib.pyplot as plt\n\nimport numpy as np\n\nimport pandas as pd\n\nimport seaborn as sns\n\nfrom sklearn import preprocessing\nfrom sklearn.model_selection import RepeatedStratifiedKFold\n\nsns.set_style(\"whitegrid\")\nsns.set_context(\"paper\")\n\n\ndef load_covid(norm=False, array=True):\n    data_consensus = pd.read_csv(\"data/data_consensus.csv\", sep=\";\")\n\n    variable_dict = {\n        \"CD0000AGE\": \"Age\",\n        \"CORE\": \"PATIENT_ID\",\n        \"CT000000U\": \"Urea\",\n        \"CT00000BT\": \"Bilirubin\",\n        \"CT00000NA\": \"Sodium\",\n        \"CT00000TP\": \"Proth_time\",\n        \"CT0000COM\": \"Com\",\n        \"CT0000LDH\": \"LDH\",\n        \"CT0000NEU\": \"Neutrophils\",\n        \"CT0000PCR\": \"Pro_C_Rea\",\n        \"CT0000VCM\": \"Med_corp_vol\",\n        \"CT000APTT\": \"Ceph_time\",\n        \"CT000CHCM\": \"Mean_corp_Hgb\",\n        \"CT000EOSP\": \"Eosinophils%\",\n        \"CT000LEUC\": \"Leukocytes\",\n        \"CT000LINP\": \"Lymphocytes%\",\n        \"CT000NEUP\": \"Neutrophils%\",\n        \"CT000PLAQ\": \"Platelet_count\",\n        \"CTHSDXXRATE\": \"Rate\",\n        \"CTHSDXXSAT\": \"Sat\",\n        \"ED0DISWHY\": \"Status\",\n        \"F_INGRESO/ADMISSION_D_ING/INPAT\": \"Fecha_admision\",\n        \"SEXO/SEX\": \"Sexo\",\n    }\n    data_consensus = data_consensus.rename(columns=variable_dict)\n    if norm:\n        x_consensus = data_consensus[\n            data_consensus.columns.difference([\"Status\", \"PATIENT_ID\"])\n        ][:]\n        std_scale = preprocessing.StandardScaler().fit(x_consensus)\n        x_consensus_std = std_scale.transform(x_consensus)\n        dataframex_consensus = pd.DataFrame(\n            x_consensus_std, columns=x_consensus.columns\n        )\n        data_consensus.reset_index(drop=True, inplace=True)\n        data_consensus = pd.concat(\n            [dataframex_consensus, data_consensus[[\"Status\"]]], axis=1\n        )\n\n    data_consensus = data_consensus[\n        data_consensus.columns.difference([\"PATIENT_ID\"])\n    ]\n    X = data_consensus[\n        data_consensus.columns.difference([\"Status\", \"PATIENT_ID\"])\n    ]\n    y = data_consensus[\"Status\"]\n    if array:\n        X = X.to_numpy()\n        y = y.to_numpy()\n    return X, y\n\n\ndef getUpperLowerdf(train_size, X, y, cv, paramsMRC, smote=True):\n    \"\"\"\n    Parameters\n    ----------\n    train_size : array\n        Array of different training sizes to train the model.\n    cv : CrossValidator\n        Cross validator.\n    paramsMRC : TYPE\n        Parameters for the MRCs.\n    smote : Bool, optional\n        Class imbalance corrector, set to false to disable. The default is\n        True.\n    Returns\n    -------\n    table : dataFrame\n        Dataframe with the results of the training for each training size.\n\n    \"\"\"\n    if smote:\n        smotefit = SMOTE(sampling_strategy=\"auto\")\n        X, y = smotefit.fit_resample(X, y)\n    table = pd.DataFrame()\n    for train_set in train_size:\n        for j, (train_index, test_index) in enumerate(cv.split(X, y)):\n            X_train, X_test = X[train_index], X[test_index]\n            y_train, y_test = y[train_index], y[test_index]\n\n            random_indices = np.random.choice(\n                X_train.shape[0],\n                size=int(X.shape[0] * train_set),\n                replace=False,\n            )\n            X_train = X_train[random_indices, :]\n            y_train = y_train[random_indices]\n            std_scale = preprocessing.StandardScaler().fit(X_train, y_train)\n            X_train = std_scale.transform(X_train)\n            X_test = std_scale.transform(X_test)\n            start_time = time.time()\n            MRC_model = MRC(phi=\"fourier\", s=1, **paramsMRC).fit(\n                X_train, y_train\n            )\n            train_time = time.time() - start_time\n            auxtable = pd.DataFrame(\n                columns=[\n                    \"Error\",\n                    \"Upper\",\n                    \"Lower\",\n                    \"iteration\",\n                    \"train_size\",\n                    \"Time\",\n                ],\n                index=range(0, 1),\n            )\n            auxtable[\"train_size\"] = train_set\n            auxtable[\"iteration\"] = j\n            auxtable[\"Error\"] = 1 - MRC_model.score(X_test, y_test)\n            auxtable[\"Time\"] = train_time\n            auxtable[\"Upper\"] = MRC_model.get_upper_bound()\n            auxtable[\"Lower\"] = MRC_model.get_lower_bound()\n\n            table = table.append(auxtable, ignore_index=True)\n    return table\n\n\n# Data sets\nloaders = [\n    load_mammographic,\n    load_haberman,\n    load_indian_liver,\n    load_diabetes,\n    load_credit,\n    load_covid,\n]\n\ndataName = [\n    \"mammographic\",\n    \"haberman\",\n    \"indian_liver\",\n    \"diabetes\",\n    \"credit\",\n    \"COVID\",\n]\nparamsMRC = {\n    \"deterministic\": False,\n    \"fit_intercept\": False,\n    \"use_cvx\": True,\n    \"loss\": \"0-1\",\n}\ntrain = np.arange(0.1, 0.81, 0.1)"
      ]
    },
    {
      "cell_type": "markdown",
      "metadata": {},
      "source": [
        "## Cross test validation\n5 fold repeated Stratified Cross validation is performed where each of the\nfold is trained with 80% of the data and then tested with the remaining 20%\n\n"
      ]
    },
    {
      "cell_type": "code",
      "execution_count": null,
      "metadata": {
        "collapsed": false
      },
      "outputs": [],
      "source": [
        "n_splits = 5\nn_repeats = 10\ncv = RepeatedStratifiedKFold(\n    n_splits=n_splits, n_repeats=n_repeats, random_state=1\n)"
      ]
    },
    {
      "cell_type": "markdown",
      "metadata": {},
      "source": [
        "# Results\nWe will present the results for the 6 datasets. For more information\nabout the dataset refer to the\n`MRCpy documentation <https://machinelearningbcam.github.io/MRCpy>`_ of the\nloaders. In the results we can see how the upper and lower bounds get closer\nwhen the training size is increased. Furthermore, the standard deviation of\nboth bounds is reduced significantly.\n\n"
      ]
    },
    {
      "cell_type": "markdown",
      "metadata": {},
      "source": [
        "## Mammographic\n\n"
      ]
    },
    {
      "cell_type": "code",
      "execution_count": null,
      "metadata": {
        "collapsed": false
      },
      "outputs": [],
      "source": [
        "X, y = load_mammographic()\ntable = getUpperLowerdf(train, X, y, cv, paramsMRC)\n# dataframes.append(table)\n# plotUpperLower(table)\nmeans = (\n    table[table.columns.difference([\"iteration\"])].groupby(\"train_size\").mean()\n)\nstd = (\n    table[table.columns.difference([\"iteration\"])].groupby(\"train_size\").std()\n)\nfor column in means.columns:\n    means[column] = (\n        means[column].round(3).astype(str)\n        + \" \u00b1 \"\n        + std[column].round(3).astype(str)\n    )\nmeans[[\"Error\", \"Upper\", \"Lower\", \"Time\"]]"
      ]
    },
    {
      "cell_type": "code",
      "execution_count": null,
      "metadata": {
        "collapsed": false
      },
      "outputs": [],
      "source": [
        "fig, ax = plt.subplots()\nsns.lineplot(data=table, x=\"train_size\", y=\"Error\", label=\"Test Error\", ax=ax)\nsns.lineplot(\n    data=table,\n    x=\"train_size\",\n    y=\"Upper\",\n    color=\"red\",\n    label=\"Upper bound\",\n    linestyle=\"dotted\",\n    ax=ax,\n)\nsns.lineplot(\n    data=table,\n    x=\"train_size\",\n    y=\"Lower\",\n    color=\"green\",\n    label=\"Lower bound\",\n    linestyle=\"dotted\",\n    ax=ax,\n)\nplt.suptitle(\"Mammographic\")\nplt.show()"
      ]
    },
    {
      "cell_type": "markdown",
      "metadata": {},
      "source": [
        "## Haberman\n\n"
      ]
    },
    {
      "cell_type": "code",
      "execution_count": null,
      "metadata": {
        "collapsed": false
      },
      "outputs": [],
      "source": [
        "X, y = load_haberman()\ntable = getUpperLowerdf(train, X, y, cv, paramsMRC)\nmeans = (\n    table[table.columns.difference([\"iteration\"])].groupby(\"train_size\").mean()\n)\nstd = (\n    table[table.columns.difference([\"iteration\"])].groupby(\"train_size\").std()\n)\nfor column in means.columns:\n    means[column] = (\n        means[column].round(3).astype(str)\n        + \" \u00b1 \"\n        + std[column].round(3).astype(str)\n    )\nmeans[[\"Error\", \"Upper\", \"Lower\", \"Time\"]]"
      ]
    },
    {
      "cell_type": "code",
      "execution_count": null,
      "metadata": {
        "collapsed": false
      },
      "outputs": [],
      "source": [
        "fig, ax = plt.subplots()\nsns.lineplot(data=table, x=\"train_size\", y=\"Error\", label=\"Test Error\", ax=ax)\nsns.lineplot(\n    data=table,\n    x=\"train_size\",\n    y=\"Upper\",\n    color=\"red\",\n    label=\"Upper bound\",\n    linestyle=\"dotted\",\n    ax=ax,\n)\nsns.lineplot(\n    data=table,\n    x=\"train_size\",\n    y=\"Lower\",\n    color=\"green\",\n    label=\"Lower bound\",\n    linestyle=\"dotted\",\n    ax=ax,\n)\nplt.suptitle(\"Haberman\")\nplt.show()"
      ]
    },
    {
      "cell_type": "markdown",
      "metadata": {},
      "source": [
        "## Indian liver\n\n"
      ]
    },
    {
      "cell_type": "code",
      "execution_count": null,
      "metadata": {
        "collapsed": false
      },
      "outputs": [],
      "source": [
        "X, y = load_indian_liver()\n\ntable = getUpperLowerdf(train, X, y, cv, paramsMRC)\nmeans = (\n    table[table.columns.difference([\"iteration\"])].groupby(\"train_size\").mean()\n)\nstd = (\n    table[table.columns.difference([\"iteration\"])].groupby(\"train_size\").std()\n)\nfor column in means.columns:\n    means[column] = (\n        means[column].round(3).astype(str)\n        + \" \u00b1 \"\n        + std[column].round(3).astype(str)\n    )\nmeans[[\"Error\", \"Upper\", \"Lower\", \"Time\"]]"
      ]
    },
    {
      "cell_type": "code",
      "execution_count": null,
      "metadata": {
        "collapsed": false
      },
      "outputs": [],
      "source": [
        "fig, ax = plt.subplots()\nsns.lineplot(data=table, x=\"train_size\", y=\"Error\", label=\"Test Error\", ax=ax)\nsns.lineplot(\n    data=table,\n    x=\"train_size\",\n    y=\"Upper\",\n    color=\"red\",\n    label=\"Upper bound\",\n    linestyle=\"dotted\",\n    ax=ax,\n)\nsns.lineplot(\n    data=table,\n    x=\"train_size\",\n    y=\"Lower\",\n    color=\"green\",\n    label=\"Lower bound\",\n    linestyle=\"dotted\",\n    ax=ax,\n)\nplt.suptitle(\"Indian Liver\")\nplt.show()"
      ]
    },
    {
      "cell_type": "markdown",
      "metadata": {},
      "source": [
        "## diabetes\n\n"
      ]
    },
    {
      "cell_type": "code",
      "execution_count": null,
      "metadata": {
        "collapsed": false
      },
      "outputs": [],
      "source": [
        "X, y = load_diabetes()\n\ntable = getUpperLowerdf(train, X, y, cv, paramsMRC)\nmeans = (\n    table[table.columns.difference([\"iteration\"])].groupby(\"train_size\").mean()\n)\nstd = (\n    table[table.columns.difference([\"iteration\"])].groupby(\"train_size\").std()\n)\nfor column in means.columns:\n    means[column] = (\n        means[column].round(3).astype(str)\n        + \" \u00b1 \"\n        + std[column].round(3).astype(str)\n    )\nmeans[[\"Error\", \"Upper\", \"Lower\", \"Time\"]]"
      ]
    },
    {
      "cell_type": "code",
      "execution_count": null,
      "metadata": {
        "collapsed": false
      },
      "outputs": [],
      "source": [
        "fig, ax = plt.subplots()\nsns.lineplot(data=table, x=\"train_size\", y=\"Error\", label=\"Test Error\", ax=ax)\nsns.lineplot(\n    data=table,\n    x=\"train_size\",\n    y=\"Upper\",\n    color=\"red\",\n    label=\"Upper bound\",\n    linestyle=\"dotted\",\n    ax=ax,\n)\nsns.lineplot(\n    data=table,\n    x=\"train_size\",\n    y=\"Lower\",\n    color=\"green\",\n    label=\"Lower bound\",\n    linestyle=\"dotted\",\n    ax=ax,\n)\nplt.suptitle(\"Diabetes\")\nplt.show()"
      ]
    },
    {
      "cell_type": "markdown",
      "metadata": {},
      "source": [
        "## credit\n\n"
      ]
    },
    {
      "cell_type": "code",
      "execution_count": null,
      "metadata": {
        "collapsed": false
      },
      "outputs": [],
      "source": [
        "X, y = load_credit()\n\ntable = getUpperLowerdf(train, X, y, cv, paramsMRC)\nmeans = (\n    table[table.columns.difference([\"iteration\"])].groupby(\"train_size\").mean()\n)\nstd = (\n    table[table.columns.difference([\"iteration\"])].groupby(\"train_size\").std()\n)\nfor column in means.columns:\n    means[column] = (\n        means[column].round(3).astype(str)\n        + \" \u00b1 \"\n        + std[column].round(3).astype(str)\n    )\nmeans[[\"Error\", \"Upper\", \"Lower\", \"Time\"]]"
      ]
    },
    {
      "cell_type": "code",
      "execution_count": null,
      "metadata": {
        "collapsed": false
      },
      "outputs": [],
      "source": [
        "fig, ax = plt.subplots()\nsns.lineplot(data=table, x=\"train_size\", y=\"Error\", label=\"Test Error\", ax=ax)\nsns.lineplot(\n    data=table,\n    x=\"train_size\",\n    y=\"Upper\",\n    color=\"red\",\n    label=\"Upper bound\",\n    linestyle=\"dotted\",\n    ax=ax,\n)\nsns.lineplot(\n    data=table,\n    x=\"train_size\",\n    y=\"Lower\",\n    color=\"green\",\n    label=\"Lower bound\",\n    linestyle=\"dotted\",\n    ax=ax,\n)\nplt.suptitle(\"Credit\")\nplt.show()"
      ]
    },
    {
      "cell_type": "markdown",
      "metadata": {},
      "source": [
        "## COVID\n\n"
      ]
    },
    {
      "cell_type": "code",
      "execution_count": null,
      "metadata": {
        "collapsed": false
      },
      "outputs": [],
      "source": [
        "X, y = load_covid()\n\ntable = getUpperLowerdf(train, X, y, cv, paramsMRC)\nmeans = (\n    table[table.columns.difference([\"iteration\"])].groupby(\"train_size\").mean()\n)\nstd = (\n    table[table.columns.difference([\"iteration\"])].groupby(\"train_size\").std()\n)\nfor column in means.columns:\n    means[column] = (\n        means[column].round(3).astype(str)\n        + \" \u00b1 \"\n        + std[column].round(3).astype(str)\n    )\nmeans[[\"Error\", \"Upper\", \"Lower\", \"Time\"]]"
      ]
    },
    {
      "cell_type": "code",
      "execution_count": null,
      "metadata": {
        "collapsed": false
      },
      "outputs": [],
      "source": [
        "fig, ax = plt.subplots()\nsns.lineplot(data=table, x=\"train_size\", y=\"Error\", label=\"Test Error\", ax=ax)\nsns.lineplot(\n    data=table,\n    x=\"train_size\",\n    y=\"Upper\",\n    color=\"red\",\n    label=\"Upper bound\",\n    linestyle=\"dotted\",\n    ax=ax,\n)\nsns.lineplot(\n    data=table,\n    x=\"train_size\",\n    y=\"Lower\",\n    color=\"green\",\n    label=\"Lower bound\",\n    linestyle=\"dotted\",\n    ax=ax,\n)\nplt.suptitle(\"COVID\")\nplt.show()"
      ]
    }
  ],
  "metadata": {
    "kernelspec": {
      "display_name": "Python 3",
      "language": "python",
      "name": "python3"
    },
    "language_info": {
      "codemirror_mode": {
        "name": "ipython",
        "version": 3
      },
      "file_extension": ".py",
      "mimetype": "text/x-python",
      "name": "python",
      "nbconvert_exporter": "python",
      "pygments_lexer": "ipython3",
      "version": "3.9.7"
    }
  },
  "nbformat": 4,
  "nbformat_minor": 0
}