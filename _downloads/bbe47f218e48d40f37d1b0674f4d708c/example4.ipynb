{
  "cells": [
    {
      "cell_type": "code",
      "execution_count": null,
      "metadata": {
        "collapsed": false
      },
      "outputs": [],
      "source": [
        "%matplotlib inline"
      ]
    },
    {
      "cell_type": "markdown",
      "metadata": {},
      "source": [
        "Simple example of using CMRC with 0-1 loss.\n"
      ]
    },
    {
      "cell_type": "code",
      "execution_count": null,
      "metadata": {
        "collapsed": false
      },
      "outputs": [],
      "source": [
        "import numpy as np\n\nfrom MRCpy import CMRC\n# Import the datasets\nfrom MRCpy.datasets import load_mammographic\n\n\nif __name__ == '__main__':\n\n    # Loading the dataset\n    X, Y = load_mammographic(return_X_y=True)\n\n    # Fit the MRC model\n    clf = CMRC().fit(X, Y)\n\n    # Prediction\n    print('\\n\\nThe predicted values for the first 3 instances are : ')\n    print(clf.predict(X[:3, :]))\n\n    # Predicted probabilities\n    print('\\n\\nThe predicted probabilities for the first 3 instances are : ')\n    print(clf.predict_proba(X[:3, :]))\n\n    print('\\n\\nThe score is : ')\n    print(clf.score(X, Y))"
      ]
    }
  ],
  "metadata": {
    "kernelspec": {
      "display_name": "Python 3",
      "language": "python",
      "name": "python3"
    },
    "language_info": {
      "codemirror_mode": {
        "name": "ipython",
        "version": 3
      },
      "file_extension": ".py",
      "mimetype": "text/x-python",
      "name": "python",
      "nbconvert_exporter": "python",
      "pygments_lexer": "ipython3",
      "version": "3.9.5"
    }
  },
  "nbformat": 4,
  "nbformat_minor": 0
}