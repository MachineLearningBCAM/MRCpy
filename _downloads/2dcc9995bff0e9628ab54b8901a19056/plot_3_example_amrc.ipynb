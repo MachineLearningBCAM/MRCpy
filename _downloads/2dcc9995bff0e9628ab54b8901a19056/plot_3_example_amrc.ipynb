{
  "cells": [
    {
      "cell_type": "markdown",
      "metadata": {},
      "source": [
        "\n\n# Example: Use of AMRC (Adaptative MRC) for Online Learning\nExample of using AMRC with dataset usenet2. We load the dataset, train the\nAMRC model one instance at a time and predict the next instance in each time\ninstant.\n\n<img src=\"file://images/amrc.png\" width=\"500\" align=\"center\" alt=\"AMRC diagram\">\n\nFrom left to right in the diagram above we can check what happens in every\ntime moment. We have the optimization parameter from the previous time moment\n$\\mu_{t-1}$ and the learning parameters from the previous time moment\n$\\hat{\\tau}_{t-1}, \\lambda_{t-1}$. Using those parameters\ncorresponding to time $t-1$ the algorithm obtains the performance\nguarantee $R(\\mathcal{U}_{t-1})$.\nWhen receiving the next instance $x_{t-1}$\nthe algorithm predicts its label $\\hat{y}_{t-1}$. Then, it receives the\nactual label $y_{t-1}$ and it updates the model using it and therefore\nobtaining the new parameters for the next time instant: optimization parameter\n$\\mu_t$ and learning parameters $\\hat{\\tau}_{t}, \\lambda_{t}$.\n\nIn this example we fit an AMRC model sample by sample, obtaining the upper\nbounds of the error in every time instant, the accumulated mistakes per time,\nand the upper bound for the accumulated mistakes per time. We do this for\nboth the deterministic and the probabilistic settings. In the first one,\nwe always predict the label with greater probability and in the second we\npredict a label with probabilities determined by the model. Note that the\nupper bound for the accumulated mistakes per time is the same for both\nsettings.\n\nYou can check more technical details of the documentation class `amrc`.\n"
      ]
    },
    {
      "cell_type": "code",
      "execution_count": null,
      "metadata": {
        "collapsed": false
      },
      "outputs": [],
      "source": [
        "import matplotlib.pyplot as plt\nimport numpy as np\nimport pandas as pd\nfrom sklearn.preprocessing import MinMaxScaler\n\nfrom MRCpy import AMRC\nfrom MRCpy.datasets import load_usenet2\n\n# We fix the significance level (delta) in order to fix a confidence of\n# 1-delta\ndelta = 0.05\n\n# Import data\nX, Y = load_usenet2()\n\n# Normalize data\nscaler = MinMaxScaler()\nX = scaler.fit_transform(X)\n\n\n# Number of classes\nn_classes = len(np.unique(Y))\n\n# Length of the instance vectors\nn, d = X.shape\n\nY_pred = np.zeros(n - 1)\nU_det = np.zeros(n - 1)\nU_nondet = np.zeros(n - 1)\n\naccumulated_mistakes_per_time_det = np.zeros(n - 1)\naccumulated_mistakes_per_time_nondet = np.zeros(n - 1)\n\nbound_accumulated_mistakes_per_time = np.zeros(n - 1)\n\ndf = pd.DataFrame()\n\nfor feature_mapping in ['linear', 'fourier']:\n\n    # Probabilistic Predictions\n\n    clf = AMRC(n_classes=2, phi=feature_mapping, deterministic=False)\n\n    mistakes = 0\n    sum_of_U = 0\n    for i in range(n - 1):\n        # Train the model with the instance x_t\n        clf.fit(X[i, :], Y[i])\n        # We get the upper bound\n        U_nondet[i] = clf.get_upper_bound()\n        # Use the model at this stage to predict the instance x_{t+1}\n        Y_pred[i] = clf.predict(X[i + 1, :])\n\n        # We calculate accumulated mistakes per time\n        if Y_pred[i] != Y[i + 1]:\n            mistakes += 1\n        accumulated_mistakes_per_time_nondet[i] = mistakes / (i + 1)\n\n        # We calculate the upper bound for accumulated mistakes per time\n        sum_of_U += U_nondet[i]\n        bound_accumulated_mistakes_per_time[i] = \\\n            (sum_of_U + np.sqrt(2 * (i + 1) * np.log(1 / delta))) / (i + 1)\n\n    error_nondet = np.average(Y[1:] != Y_pred)\n\n    # Deterministic Predictions\n\n    clf = AMRC(n_classes=2, phi=feature_mapping, deterministic=True)\n\n    mistakes = 0\n    sum_of_U = 0\n    for i in range(n - 1):\n        # Train the model with the instance x_t\n        clf.fit(X[i, :], Y[i])\n        # We get the upper bound\n        U_det[i] = clf.get_upper_bound()\n        # Use the model at this stage to predict the instance x_{t+1}\n        Y_pred[i] = clf.predict(X[i + 1, :])\n\n        # We calculate accumulated mistakes\n        if Y_pred[i] != Y[i + 1]:\n            mistakes += 1\n        accumulated_mistakes_per_time_det[i] = mistakes / (i + 1)\n\n    error_det = np.average(Y[1:] != Y_pred)\n\n    # df = pd.concat([df, pd.DataFrame.from_dict({'feature mapping': feature_mapping,\n    #                 'deterministic error': \"%1.3g\" % error_det,\n    #                 'non deterministic error': \"%1.3g\" % error_nondet})],\n    #                ignore_index=True)\n\n    plt.figure()\n    plt.plot(U_det[1:])\n    plt.plot(U_nondet[1:])\n    plt.legend(['Deterministic Prediction', 'Probabilistic Prediction'])\n    plt.xlabel('Instances (Time)')\n    plt.ylabel('Probability')\n    plt.title('Instantaneous bounds for error probabilities. ' +\n              'Feature mapping: ' + feature_mapping)\n    plt.show()\n\n    plt.figure()\n    plt.plot(accumulated_mistakes_per_time_det)\n    plt.plot(accumulated_mistakes_per_time_nondet)\n    plt.plot(bound_accumulated_mistakes_per_time)\n    plt.legend(['Deterministic Accumulated Mistakes Per Time',\n                'Probabilistic Accumulated Mistakes Per Time',\n                'Bound Accumulated Mistakes Per Time'\n                ])\n    plt.xlabel('Instances (Time)')\n    plt.title('Accumulated Mistakes Per Time. ' +\n              'Feature mapping: ' + feature_mapping)\n    plt.show()"
      ]
    },
    {
      "cell_type": "code",
      "execution_count": null,
      "metadata": {
        "collapsed": false
      },
      "outputs": [],
      "source": [
        "# df.style.set_caption('AMRC Results')"
      ]
    }
  ],
  "metadata": {
    "kernelspec": {
      "display_name": "Python 3",
      "language": "python",
      "name": "python3"
    },
    "language_info": {
      "codemirror_mode": {
        "name": "ipython",
        "version": 3
      },
      "file_extension": ".py",
      "mimetype": "text/x-python",
      "name": "python",
      "nbconvert_exporter": "python",
      "pygments_lexer": "ipython3",
      "version": "3.9.13"
    }
  },
  "nbformat": 4,
  "nbformat_minor": 0
}