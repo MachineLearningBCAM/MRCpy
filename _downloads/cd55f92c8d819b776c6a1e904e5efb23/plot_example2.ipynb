{
  "cells": [
    {
      "cell_type": "code",
      "execution_count": null,
      "metadata": {
        "collapsed": false
      },
      "outputs": [],
      "source": [
        "%matplotlib inline"
      ]
    },
    {
      "cell_type": "markdown",
      "metadata": {},
      "source": [
        "\n\n# Example: Use of CMRC with different settings\n\nExample of using CMRC with some of the common classification datasets with different\nlosses and feature mappings settings. We load the different datasets and use 10-Fold \nCross-Validation to generate the partitions for train and test. We separate 1 partition\neach time for testing and use the others for training. On each iteration we calculate \nthe classification error. We also calculate the mean training time.\n\nYou can check a more elaborated example in `ex_comp`.\n"
      ]
    },
    {
      "cell_type": "code",
      "execution_count": null,
      "metadata": {
        "collapsed": false
      },
      "outputs": [],
      "source": [
        "import time\n\nimport numpy as np\nfrom sklearn import preprocessing\nfrom sklearn.model_selection import StratifiedKFold\n\nfrom MRCpy import CMRC\n# Import the datasets\nfrom MRCpy.datasets import *\n\n# Data sets\nloaders = [load_mammographic, load_haberman, load_indian_liver,\n           load_diabetes, load_credit]\ndataName = [\"mammographic\", \"haberman\", \"indian_liver\", \n            \"diabetes\", \"credit\"]\n\n\ndef runCMRC(phi, loss):\n\n    res_mean = np.zeros(len(dataName))\n    res_std = np.zeros(len(dataName))\n\n    # We fix the random seed to that the stratified kfold performed\n    # is the same through the different executions\n    random_seed = 0\n\n    # Iterate through each of the dataset and fit the CMRC classfier.\n    for j, load in enumerate(loaders):\n\n        # Loading the dataset\n        X, Y = load(return_X_y=True)\n        r = len(np.unique(Y))\n        n, d = X.shape\n\n        # Print the dataset name\n        print(\" ############## \\n \" + dataName[j] + \" n= \" + str(n) +\n              \" , d= \" + str(d) + \", cardY= \" + str(r))\n\n        # Create the CMRC object initilized with the corresponding parameters\n        clf = CMRC(phi=phi, loss=loss, use_cvx=True,\n                   solver='MOSEK', max_iters=10000, s=0.3)\n\n        # Generate the partitions of the stratified cross-validation\n        cv = StratifiedKFold(n_splits=10, random_state=random_seed,\n                             shuffle=True)\n\n        cvError = list()\n        auxTime = 0\n\n        # Paired and stratified cross-validation\n        for train_index, test_index in cv.split(X, Y):\n\n            X_train, X_test = X[train_index], X[test_index]\n            y_train, y_test = Y[train_index], Y[test_index]\n\n            # Normalizing the data\n            std_scale = preprocessing.StandardScaler().fit(X_train, y_train)\n            X_train = std_scale.transform(X_train)\n            X_test = std_scale.transform(X_test)\n\n            # Save start time for computing training time\n            startTime = time.time()\n\n            # Train the model\n            clf.fit(X_train, y_train)\n\n            # Save the training time\n            auxTime += time.time() - startTime\n            \n            # Predict the class for test instances\n            y_pred = clf.predict(X_test)\n\n            # Calculate the error made by CMRC classificator\n            cvError.append(np.average(y_pred != y_test))\n\n        res_mean[j] = np.average(cvError)\n        res_std[j] = np.std(cvError)\n\n        # Calculating the mean training time\n        auxTime = auxTime / 10\n\n        print(\" error= \" + \": \" + str(res_mean[j]) + \" +/- \" +\n              str(res_std[j]) + \"\\n avg_train_time= \" + \": \" +\n              str(auxTime) + ' secs' + \"\\n ############## \\n\\n\")\n\n\nif __name__ == '__main__':\n\n    print('*** Example (CMRC with the additional marginal constraints) *** \\n\\n')\n\n    print('1. Using 0-1 loss and relu feature mapping \\n\\n')\n    runCMRC(phi='relu', loss='0-1')\n\n    print('2. Using log loss and relu feature mapping \\n\\n')\n    runCMRC(phi='relu', loss='log')"
      ]
    }
  ],
  "metadata": {
    "kernelspec": {
      "display_name": "Python 3",
      "language": "python",
      "name": "python3"
    },
    "language_info": {
      "codemirror_mode": {
        "name": "ipython",
        "version": 3
      },
      "file_extension": ".py",
      "mimetype": "text/x-python",
      "name": "python",
      "nbconvert_exporter": "python",
      "pygments_lexer": "ipython3",
      "version": "3.8.8"
    }
  },
  "nbformat": 4,
  "nbformat_minor": 0
}