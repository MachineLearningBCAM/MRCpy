{
  "cells": [
    {
      "cell_type": "markdown",
      "metadata": {},
      "source": [
        "\n\n# Example: Use of DWGCS (Double-Weighting General Covariate Shift) for Covariate Shift Adaptation\n\nExample of using DWGCS with the sythetic dataset used on the experiments \nof the corresponding paper. We load the dataset, train the DWGCS model using\ndata collected from training and testing distribution and predict the new instances\nfrom the testing distribution.\n"
      ]
    },
    {
      "cell_type": "code",
      "execution_count": null,
      "metadata": {
        "collapsed": false
      },
      "outputs": [],
      "source": [
        "import numpy as np\nimport pandas as pd\nimport time\n\nfrom MRCpy import DWGCS\nfrom MRCpy import CMRC\n# Import the datasets\nfrom MRCpy.datasets import *\nimport matplotlib.pyplot as plt\nimport seaborn as sns\n\n# Data sets\nloaders = [load_comp_vs_sci, load_comp_vs_talk, load_rec_vs_sci,\n          load_rec_vs_talk, load_sci_vs_talk]\ndataName = [\"comp-vs-sci\", \"comp-vs-talk\", \"rec-vs-sci\",\n           \"rec-vs-talk\", \"sci-vs-talk\"]\nsigma = np.array([23.5628, 23.4890, 24.5642, 25.1129, 24.8320])\n\nrep = 3\nn = 1000\nt = 1000\n\ncolumns = ['dataset', 'iteration', 'method', 'error']\nresults = pd.DataFrame(columns=columns)\n\nfor j, load in enumerate(loaders):\n\n    # Loading the dataset\n    X_TrainSet, Y_TrainSet, X_TestSet, Y_TestSet = load()\n\n    TrainSet = np.concatenate((X_TrainSet, np.reshape(Y_TrainSet,(Y_TrainSet.shape[0], 1))), axis=1)\n    TestSet = np.concatenate((X_TestSet, np.reshape(Y_TestSet, (Y_TestSet.shape[0], 1))), axis=1)\n    \n    for i in range(rep):\n        \n        np.random.seed(42)\n        np.random.shuffle(TrainSet)\n        np.random.seed(42)\n        np.random.shuffle(TestSet)\n\n        X_train = TrainSet[:n, :-1]\n        Y_train = TrainSet[:n, -1]\n        X_test  = TestSet[:t, :-1]\n        Y_test  = TestSet[:t, -1]\n\n        #CMRC\n        clf = CMRC(loss = '0-1', phi = 'linear', fit_intercept = False, s = 0)\n        clf.fit(X_train, Y_train, X_test)\n        Error1 = clf.error(X_test, Y_test)\n\n        #DWGCS D = 4\n        clf2 = DWGCS(loss = '0-1', phi = 'linear', sigma_ = sigma[j], D = 1)\n        clf2.fit(X_train, Y_train, X_test)\n        Error2 = clf2.error(X_test, Y_test)\n\n        #DWGCS D = 4\n        clf3 = DWGCS(loss = '0-1', phi = 'linear', sigma_ = sigma[j])\n        clf3.fit(X_train, Y_train, X_test)\n        Error3 = clf3.error(X_test, Y_test)\n\n    \n        new_row = {'dataset': dataName[j],\n                   'iteration' : i,\n                   'method' : '\\'CMRC\\'',\n                   'error': Error1}\n        results.loc[len(results)] = new_row\n\n        new_row = {'dataset': dataName[j],\n                   'iteration' : i,\n                   'method' : '\\'DWGCS\\' D = 1',\n                   'error': Error2}\n        results.loc[len(results)] = new_row\n\n        new_row = {'dataset': dataName[j],\n                   'iteration' : i,\n                   'method' : '\\'DWGCS\\'',\n                   'error': Error3}\n        results.loc[len(results)] = new_row"
      ]
    },
    {
      "cell_type": "code",
      "execution_count": null,
      "metadata": {
        "collapsed": false
      },
      "outputs": [],
      "source": [
        "sns.boxplot(x = results['dataset'], \n            y = results['error'], \n            hue = results['method'],\n            palette={'\\'CMRC\\'' : '#ecb500', '\\'DWGCS\\' D = 1' : 'red', '\\'DWGCS\\'' : 'green'},\n            width=0.5)\nplt.xlabel(\"Dataset\")\nplt.ylabel(\"Classification error\")\nplt.show()"
      ]
    }
  ],
  "metadata": {
    "kernelspec": {
      "display_name": "Python 3",
      "language": "python",
      "name": "python3"
    },
    "language_info": {
      "codemirror_mode": {
        "name": "ipython",
        "version": 3
      },
      "file_extension": ".py",
      "mimetype": "text/x-python",
      "name": "python",
      "nbconvert_exporter": "python",
      "pygments_lexer": "ipython3",
      "version": "3.9.13"
    }
  },
  "nbformat": 4,
  "nbformat_minor": 0
}