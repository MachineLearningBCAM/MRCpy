{
  "cells": [
    {
      "cell_type": "code",
      "execution_count": null,
      "metadata": {
        "collapsed": false
      },
      "outputs": [],
      "source": [
        "%matplotlib inline"
      ]
    },
    {
      "cell_type": "markdown",
      "metadata": {},
      "source": [
        "A simple example for the paper\n"
      ]
    },
    {
      "cell_type": "code",
      "execution_count": null,
      "metadata": {
        "collapsed": false
      },
      "outputs": [],
      "source": [
        "from MRCpy import MRC\nfrom MRCpy.datasets import load_mammographic\nfrom sklearn.model_selection import train_test_split\n\n# Load the mammographic dataset\nX, Y = load_mammographic(return_X_y=True)\n\n# Split the data into training and testing\nX_train, X_test, y_train, y_test = train_test_split(X, Y, test_size=0.2, random_state=42)\n\n# Create the MRC classifier using default loss (0-1)\nclf = MRC()\n\n# Fit the classifier on the training data\nclf.fit(X_train, y_train)\n\n# Bounds on the classification error (only for MRC)\nlower_error = clf.get_lower_bound()\nupper_error = clf.upper_\n\n# Compute the accuracy on the test set\naccuracy = clf.score(X_test, y_test)"
      ]
    }
  ],
  "metadata": {
    "kernelspec": {
      "display_name": "Python 3",
      "language": "python",
      "name": "python3"
    },
    "language_info": {
      "codemirror_mode": {
        "name": "ipython",
        "version": 3
      },
      "file_extension": ".py",
      "mimetype": "text/x-python",
      "name": "python",
      "nbconvert_exporter": "python",
      "pygments_lexer": "ipython3",
      "version": "3.9.5"
    }
  },
  "nbformat": 4,
  "nbformat_minor": 0
}